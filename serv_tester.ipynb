{
 "cells": [
  {
   "cell_type": "code",
   "execution_count": 4,
   "metadata": {},
   "outputs": [],
   "source": [
    "import requests as req"
   ]
  },
  {
   "cell_type": "markdown",
   "metadata": {},
   "source": [
    "\n",
    "1\n",
    "\n",
    "\n",
    "\n",
    "\n",
    "\n",
    "\n",
    "1\n",
    "\n",
    "1\n",
    "\n",
    "\n",
    "1"
   ]
  },
  {
   "cell_type": "code",
   "execution_count": 49,
   "metadata": {},
   "outputs": [
    {
     "data": {
      "text/plain": [
       "'something'"
      ]
     },
     "execution_count": 49,
     "metadata": {},
     "output_type": "execute_result"
    }
   ],
   "source": [
    "req.get(\"http://localhost:9090/token_update/\", data = {\"machine_id\": \"asd\", \"service_token\": \"asd\"}).text"
   ]
  },
  {
   "cell_type": "code",
   "execution_count": 50,
   "metadata": {},
   "outputs": [
    {
     "data": {
      "text/plain": [
       "\"'\\\\u0442\\\\u0435\\\\u0441\\\\u0442'\""
      ]
     },
     "execution_count": 50,
     "metadata": {},
     "output_type": "execute_result"
    }
   ],
   "source": [
    "ascii(\"тест\")"
   ]
  },
  {
   "cell_type": "code",
   "execution_count": 51,
   "metadata": {},
   "outputs": [
    {
     "name": "stdout",
     "output_type": "stream",
     "text": [
      "116 101 115 116\n"
     ]
    }
   ],
   "source": [
    "print(ord(\"t\"), ord(\"e\"), ord(\"s\"), ord(\"t\"))"
   ]
  },
  {
   "cell_type": "code",
   "execution_count": 52,
   "metadata": {},
   "outputs": [
    {
     "name": "stdout",
     "output_type": "stream",
     "text": [
      "t e s t\n"
     ]
    }
   ],
   "source": [
    "print(chr(116), chr(101), chr(115), chr(116))"
   ]
  },
  {
   "cell_type": "code",
   "execution_count": 53,
   "metadata": {},
   "outputs": [
    {
     "name": "stdout",
     "output_type": "stream",
     "text": [
      "! ~ 93\n"
     ]
    }
   ],
   "source": [
    "print(chr(33), chr(126), str(126-33))"
   ]
  },
  {
   "cell_type": "code",
   "execution_count": 54,
   "metadata": {},
   "outputs": [
    {
     "data": {
      "text/plain": [
       "[116, 101, 115, 116]"
      ]
     },
     "execution_count": 54,
     "metadata": {},
     "output_type": "execute_result"
    }
   ],
   "source": [
    "s = \"test\"\n",
    "ss = []\n",
    "for i in s:\n",
    "    ss.append(ord(i))\n",
    "ss"
   ]
  },
  {
   "cell_type": "code",
   "execution_count": 55,
   "metadata": {},
   "outputs": [
    {
     "data": {
      "text/plain": [
       "[114, 102, 115, 104]"
      ]
     },
     "execution_count": 55,
     "metadata": {},
     "output_type": "execute_result"
    }
   ],
   "source": [
    "s_ = \"rfsh\"\n",
    "ss_ = []\n",
    "for i in s_:\n",
    "    ss_.append(ord(i))\n",
    "ss_"
   ]
  },
  {
   "cell_type": "code",
   "execution_count": 56,
   "metadata": {},
   "outputs": [
    {
     "data": {
      "text/plain": [
       "[77, 50, 77, 67]"
      ]
     },
     "execution_count": 56,
     "metadata": {},
     "output_type": "execute_result"
    }
   ],
   "source": [
    "sm = []\n",
    "for i in range(len(ss)):\n",
    "    sm.append(ss[i] + ss_[i])\n",
    "    sm[i] %= 93\n",
    "    sm[i] += 33\n",
    "sm"
   ]
  },
  {
   "cell_type": "code",
   "execution_count": 57,
   "metadata": {},
   "outputs": [
    {
     "data": {
      "text/plain": [
       "'M2MC'"
      ]
     },
     "execution_count": 57,
     "metadata": {},
     "output_type": "execute_result"
    }
   ],
   "source": [
    "_s = \"\"\n",
    "for i in sm:\n",
    "    _s += chr(i)\n",
    "_s"
   ]
  },
  {
   "cell_type": "code",
   "execution_count": 47,
   "metadata": {},
   "outputs": [
    {
     "name": "stdout",
     "output_type": "stream",
     "text": [
      "Collecting cryptography\n",
      "  Downloading cryptography-41.0.5-cp37-abi3-win_amd64.whl.metadata (5.3 kB)\n",
      "Collecting cffi>=1.12 (from cryptography)\n",
      "  Downloading cffi-1.16.0-cp311-cp311-win_amd64.whl.metadata (1.5 kB)\n",
      "Collecting pycparser (from cffi>=1.12->cryptography)\n",
      "  Downloading pycparser-2.21-py2.py3-none-any.whl (118 kB)\n",
      "     ---------------------------------------- 0.0/118.7 kB ? eta -:--:--\n",
      "     ---------------------------------------- 0.0/118.7 kB ? eta -:--:--\n",
      "     --- ------------------------------------ 10.2/118.7 kB ? eta -:--:--\n",
      "     ------------ ------------------------ 41.0/118.7 kB 495.5 kB/s eta 0:00:01\n",
      "     ------------------------------------ 118.7/118.7 kB 867.7 kB/s eta 0:00:00\n",
      "Downloading cryptography-41.0.5-cp37-abi3-win_amd64.whl (2.7 MB)\n",
      "   ---------------------------------------- 0.0/2.7 MB ? eta -:--:--\n",
      "   - -------------------------------------- 0.1/2.7 MB 6.4 MB/s eta 0:00:01\n",
      "   --- ------------------------------------ 0.3/2.7 MB 3.2 MB/s eta 0:00:01\n",
      "   ------- -------------------------------- 0.5/2.7 MB 4.2 MB/s eta 0:00:01\n",
      "   ---------------- ----------------------- 1.1/2.7 MB 6.2 MB/s eta 0:00:01\n",
      "   --------------------- ------------------ 1.4/2.7 MB 6.5 MB/s eta 0:00:01\n",
      "   ------------------------------------ --- 2.5/2.7 MB 9.2 MB/s eta 0:00:01\n",
      "   -------------------------------------- - 2.6/2.7 MB 8.3 MB/s eta 0:00:01\n",
      "   ---------------------------------------- 2.7/2.7 MB 7.4 MB/s eta 0:00:00\n",
      "Downloading cffi-1.16.0-cp311-cp311-win_amd64.whl (181 kB)\n",
      "   ---------------------------------------- 0.0/181.5 kB ? eta -:--:--\n",
      "   --------------------------------------- 181.5/181.5 kB 10.7 MB/s eta 0:00:00\n",
      "Installing collected packages: pycparser, cffi, cryptography\n",
      "Successfully installed cffi-1.16.0 cryptography-41.0.5 pycparser-2.21\n"
     ]
    }
   ],
   "source": [
    "!pip install cryptography"
   ]
  },
  {
   "cell_type": "code",
   "execution_count": 67,
   "metadata": {},
   "outputs": [],
   "source": [
    "import os"
   ]
  },
  {
   "cell_type": "code",
   "execution_count": 69,
   "metadata": {},
   "outputs": [],
   "source": [
    "from random import randint, choice"
   ]
  },
  {
   "cell_type": "code",
   "execution_count": 73,
   "metadata": {},
   "outputs": [
    {
     "data": {
      "text/plain": [
       "84"
      ]
     },
     "execution_count": 73,
     "metadata": {},
     "output_type": "execute_result"
    }
   ],
   "source": [
    "url_safe = list(range(33, 123))\n",
    "url_safe.remove(47)\n",
    "url_safe.remove(91)\n",
    "url_safe.remove(92)\n",
    "url_safe.remove(93)\n",
    "url_safe.remove(60)\n",
    "url_safe.remove(62)\n",
    "len(url_safe)"
   ]
  },
  {
   "cell_type": "code",
   "execution_count": 91,
   "metadata": {},
   "outputs": [
    {
     "data": {
      "text/plain": [
       "('ZSTAm*$1yBox@eQYh*\"RISn(IYEZp;2Q', 'k`g)nFMBAmhwz4&==QPwvL^q5ECGxXzz')"
      ]
     },
     "execution_count": 91,
     "metadata": {},
     "output_type": "execute_result"
    }
   ],
   "source": [
    "service_token = \"\"\n",
    "refresh_token_ = \"\"\n",
    "for i in range(32):\n",
    "    service_token += chr(choice(url_safe))\n",
    "    refresh_token_ += chr(choice(url_safe))\n",
    "service_token, refresh_token_"
   ]
  },
  {
   "cell_type": "code",
   "execution_count": 62,
   "metadata": {},
   "outputs": [],
   "source": [
    "import base64 as bs64"
   ]
  },
  {
   "cell_type": "code",
   "execution_count": 92,
   "metadata": {},
   "outputs": [
    {
     "data": {
      "text/plain": [
       "(b'gAAAAABlRj-mTGt-IkIzN0rKAgWGofnoipG4iav96UbUaVLiXRhMBmTCnXwMLiEFUJQ2oMgsJY_467wEYOnGB-MheiLPyN1Ml-tO5OAtSxz9oyzGix21kcPhn_t_iqgvNB4kV88-Zx3H',\n",
       " b'WlNUQW0qJDF5Qm94QGVRWWgqIlJJU24oSVlFWnA7MlE=')"
      ]
     },
     "execution_count": 92,
     "metadata": {},
     "output_type": "execute_result"
    }
   ],
   "source": [
    "from cryptography.fernet import Fernet\n",
    "\n",
    "key_ = bs64.b64encode(service_token.encode(\"ascii\"))\n",
    "encryptor_ = Fernet(key_)\n",
    "public_refresh_token = encryptor_.encrypt(bytes(refresh_token_, 'ascii'))\n",
    "public_refresh_token, key_"
   ]
  },
  {
   "cell_type": "code",
   "execution_count": 76,
   "metadata": {},
   "outputs": [
    {
     "data": {
      "text/plain": [
       "b'TZjWI5dWYLUdq5wdRrjFrCsot5EvYL9zltKZZEgyj3A='"
      ]
     },
     "execution_count": 76,
     "metadata": {},
     "output_type": "execute_result"
    }
   ],
   "source": [
    "Fernet.generate_key()"
   ]
  },
  {
   "cell_type": "code",
   "execution_count": 80,
   "metadata": {},
   "outputs": [
    {
     "data": {
      "text/plain": [
       "b'eE40TXFEWkhzYjAoU00sOitSQnhPO01EbGwhJyRoVlk='"
      ]
     },
     "execution_count": 80,
     "metadata": {},
     "output_type": "execute_result"
    }
   ],
   "source": [
    "bs64.b64encode(service_token.encode(\"ascii\"))"
   ]
  },
  {
   "cell_type": "code",
   "execution_count": 93,
   "metadata": {},
   "outputs": [
    {
     "data": {
      "text/plain": [
       "'k`g)nFMBAmhwz4&==QPwvL^q5ECGxXzz'"
      ]
     },
     "execution_count": 93,
     "metadata": {},
     "output_type": "execute_result"
    }
   ],
   "source": [
    "key = bs64.b64encode(service_token.encode(\"ascii\"))\n",
    "encryptor = Fernet(key)\n",
    "refresh_token = encryptor.decrypt(public_refresh_token).decode(\"ascii\")\n",
    "refresh_token"
   ]
  },
  {
   "cell_type": "code",
   "execution_count": 94,
   "metadata": {},
   "outputs": [
    {
     "data": {
      "text/plain": [
       "True"
      ]
     },
     "execution_count": 94,
     "metadata": {},
     "output_type": "execute_result"
    }
   ],
   "source": [
    "refresh_token_ == refresh_token"
   ]
  },
  {
   "cell_type": "code",
   "execution_count": 97,
   "metadata": {},
   "outputs": [
    {
     "data": {
      "text/plain": [
       "'T`$^wZliVB-TzM*D5W8w[n2YY$ccQnX9'"
      ]
     },
     "execution_count": 97,
     "metadata": {},
     "output_type": "execute_result"
    }
   ],
   "source": [
    "token = []\n",
    "for i in range(len(service_token)):\n",
    "    token.append(ord(service_token[i]) * ord(refresh_token[i]))\n",
    "    token[i] %= 93\n",
    "    token[i] += 33\n",
    "    token[i] = chr(token[i])\n",
    "token = \"\".join(token)\n",
    "token"
   ]
  },
  {
   "cell_type": "code",
   "execution_count": 102,
   "metadata": {},
   "outputs": [],
   "source": [
    "from uuid import uuid4"
   ]
  },
  {
   "cell_type": "code",
   "execution_count": 106,
   "metadata": {},
   "outputs": [
    {
     "data": {
      "text/plain": [
       "'3105b3d9-a420-4c67-8dfb-4a363931d97a'"
      ]
     },
     "execution_count": 106,
     "metadata": {},
     "output_type": "execute_result"
    }
   ],
   "source": [
    "uid=str(uuid4())\n",
    "uid"
   ]
  },
  {
   "cell_type": "code",
   "execution_count": 112,
   "metadata": {},
   "outputs": [
    {
     "data": {
      "text/plain": [
       "{'tomato': '123'}"
      ]
     },
     "execution_count": 112,
     "metadata": {},
     "output_type": "execute_result"
    }
   ],
   "source": [
    "req.get(\"http://localhost:9090/user_update/\", data={\"machine_id\": uid, \"token\": token, \"data\": \"{}\"}).json()"
   ]
  },
  {
   "cell_type": "code",
   "execution_count": 2,
   "metadata": {},
   "outputs": [],
   "source": [
    "uid = \"c91d73ba-696c-4a81-9e45-92216a808e78\"\n",
    "service_token = \"bFPXY1umU2h0a(b7;GW69ik\\\"v$qnqg1n\"\n",
    "token = \"'>aL&Tc-$=$o(?7^fKZ3o9HtkrTshk%z\""
   ]
  },
  {
   "cell_type": "code",
   "execution_count": 3,
   "metadata": {},
   "outputs": [],
   "source": [
    "from cryptography.fernet import Fernet\n",
    "import base64 as bs64\n",
    "import json"
   ]
  },
  {
   "cell_type": "code",
   "execution_count": 5,
   "metadata": {},
   "outputs": [],
   "source": [
    "def ascii_base64_encode(string: str):\n",
    "    return bs64.b64encode(string.encode(\"ascii\"))\n",
    "\n",
    "def encrypt(token: str, string: str):\n",
    "    fernet = Fernet(ascii_base64_encode(token))\n",
    "    return fernet.encrypt(bytes(string, \"utf-8\"))\n",
    "\n",
    "def decrypt(token: str, bytes: bytes):\n",
    "    fernet = Fernet(ascii_base64_encode(token))\n",
    "    return fernet.decrypt(bytes).decode(\"utf-8\")"
   ]
  },
  {
   "cell_type": "code",
   "execution_count": 142,
   "metadata": {},
   "outputs": [
    {
     "data": {
      "text/plain": [
       "'{\"status\": \"ok\", \"refresh_token\": \"gAAAAABlR-jXIXdcWIco3tFs4dYAHKe1ACU2LTkjQ_Ey6bs7m3ap1BjxXH9ICXElLg2-wkTIpu0PAzflJquTsRRjlFaOSRAz6-iahbR95lC9VrNLKqlIC2klMSHsiAT1dzQpZQ_eJBqO\", \"data\": \"gAAAAABlR-jXHgxfumLl6WMydUuhAYs-epqtfd7c3hZanxU1fqoimdypNfGz5x598jdo40UsFAeFSpREldc8Eu4nvG2hCBL9TgqiJfgsTUWdlLTreiZ8IDVRzMgzRhwdHPSbClFusZokJlpM5ETOpw2eABJrUrGr6GLjKteex9GCNwsn1YtILB6nbpO6YqZSj3ULK30qazwk\"}'"
      ]
     },
     "execution_count": 142,
     "metadata": {},
     "output_type": "execute_result"
    }
   ],
   "source": [
    "d = req.get(\"http://localhost:9090/user_get/\", data={\"machine_id\": uid, \"token\": encrypt(service_token, token).decode(\"ascii\"), \"data\": '{\"card_uuid\": \"AAAA\"}'}).text\n",
    "d"
   ]
  },
  {
   "cell_type": "code",
   "execution_count": 71,
   "metadata": {},
   "outputs": [],
   "source": [
    "user = json.loads(decrypt(service_token, bytes(d['data'], \"utf-8\")).decode(\"utf-8\"))"
   ]
  },
  {
   "cell_type": "code",
   "execution_count": 17,
   "metadata": {},
   "outputs": [
    {
     "data": {
      "text/plain": [
       "b'gAAAAABlVxAE6hflVRMk0cWkBR0saAV2IV98Heit3zImO3n0ahGq7EqHxLyq6bMUpptB6Sl4K7QoTU2XRGZTQFZQ9npfJt4ScsD2y09AgrNgKTjhgK6h86Z9G1uX4g6uZdsMJ1PRCcpm1r6QYx-t8cdRcu5n7OOYaBjkD9jRMU9raeoKWdCSjya7HUFieydkZ658Uu5m2c4j'"
      ]
     },
     "execution_count": 17,
     "metadata": {},
     "output_type": "execute_result"
    }
   ],
   "source": [
    "encrypt(service_token, '{\"card_uuid\": \"TOMATO\", \"name\": \"Помидор\", \"bal\": 0, \"is_banned\": 0, \"is_mod\": 0}')"
   ]
  },
  {
   "cell_type": "code",
   "execution_count": 18,
   "metadata": {},
   "outputs": [
    {
     "data": {
      "text/plain": [
       "b'gAAAAABlVxEG7VUBR1XLcScrmVHFjtbLLFt8rGeBNA9F8NW3Ah7LDtuHMo7Fy7ucVpo1f06QPFrC70fjf7m7sPCBUhn1OHr2nboq_cwjSRZfWWX1qR6pY6TAc_M1LSOh1AhLhinP55kv'"
      ]
     },
     "execution_count": 18,
     "metadata": {},
     "output_type": "execute_result"
    }
   ],
   "source": [
    "encrypt(service_token, \"=`VSN|K]Vny0?oGb#Z9'Bir%^-rs(S(L\")"
   ]
  },
  {
   "cell_type": "code",
   "execution_count": 11,
   "metadata": {},
   "outputs": [
    {
     "data": {
      "text/plain": [
       "'{\"card_uuid\": \"AAAA\", \"user_id\": 1, \"name\": \"test\", \"bal\": 21, \"is_banned\": 0, \"is_mod\": 0}'"
      ]
     },
     "execution_count": 11,
     "metadata": {},
     "output_type": "execute_result"
    }
   ],
   "source": [
    "decrypt(service_token, \"gAAAAABlVkvDLR2SEytSOLm-BK0KmxQJiRLHno9t79VxLrymUadKguDYx03mCZ3vW3M5gVXUzZ8KU6KTDlV8_vy481BheqR1WeKRSSwvUkqINbWcpo5Ptbb8oCVIKDB3n2FP50jx2SmsmB91aiW_8IcTFZgeLYMasChdQqCbE6J1ecsTCYFwQQ_gWZdFfBe3PQsQiC4U3onu\")"
   ]
  },
  {
   "cell_type": "code",
   "execution_count": 72,
   "metadata": {},
   "outputs": [
    {
     "data": {
      "text/plain": [
       "{'card_uuid': 'AAAA',\n",
       " 'user_id': 1,\n",
       " 'name': 'test',\n",
       " 'bal': 21,\n",
       " 'is_banned': 0,\n",
       " 'is_mod': 0}"
      ]
     },
     "execution_count": 72,
     "metadata": {},
     "output_type": "execute_result"
    }
   ],
   "source": [
    "user"
   ]
  },
  {
   "cell_type": "code",
   "execution_count": 55,
   "metadata": {},
   "outputs": [],
   "source": [
    "user['bal'] += 1"
   ]
  },
  {
   "cell_type": "code",
   "execution_count": 56,
   "metadata": {},
   "outputs": [
    {
     "data": {
      "text/plain": [
       "{'card_uuid': 'AAAA',\n",
       " 'user_id': 1,\n",
       " 'name': 'test',\n",
       " 'bal': 21,\n",
       " 'is_banned': 0,\n",
       " 'is_mod': 0}"
      ]
     },
     "execution_count": 56,
     "metadata": {},
     "output_type": "execute_result"
    }
   ],
   "source": [
    "user"
   ]
  },
  {
   "cell_type": "code",
   "execution_count": 134,
   "metadata": {},
   "outputs": [
    {
     "data": {
      "text/plain": [
       "'{\"status\": \"ok\", \"refresh_token\": \"gAAAAABlR-jBq2bWVM-3hZPt7btBI7aPCDHtPneK7wGZZoL3ipK2HH2vP7DxFSSxhRPxSJ9JTF1Q6GtDvKucR_uZkjqn_Hiidotzdxw_erB7moFO0fyZM6Njm9YvNguLsmd9p_NiMcS6\"}'"
      ]
     },
     "execution_count": 134,
     "metadata": {},
     "output_type": "execute_result"
    }
   ],
   "source": [
    "d = req.get(\"http://localhost:9090/user_update/\", data={\"machine_id\": uid, \"token\": encrypt(service_token, token), \"data\": encrypt(service_token, json.dumps(user))}).text\n",
    "d"
   ]
  },
  {
   "cell_type": "code",
   "execution_count": 139,
   "metadata": {},
   "outputs": [],
   "source": [
    "d = json.loads(d)"
   ]
  },
  {
   "cell_type": "code",
   "execution_count": 140,
   "metadata": {},
   "outputs": [],
   "source": [
    "refresh_token = decrypt(service_token, d['refresh_token'])"
   ]
  },
  {
   "cell_type": "code",
   "execution_count": 141,
   "metadata": {},
   "outputs": [
    {
     "data": {
      "text/plain": [
       "'5fc=OJu5:1Y6,%7RD&x*<*{Ms`bu#:I\"'"
      ]
     },
     "execution_count": 141,
     "metadata": {},
     "output_type": "execute_result"
    }
   ],
   "source": [
    "token = []\n",
    "for i in range(len(service_token)):\n",
    "    token.append(ord(service_token[i]) * ord(refresh_token[i]))\n",
    "    token[i] %= 93\n",
    "    token[i] += 33\n",
    "    token[i] = chr(token[i])\n",
    "token = \"\".join(token)\n",
    "token"
   ]
  },
  {
   "cell_type": "code",
   "execution_count": 98,
   "metadata": {},
   "outputs": [],
   "source": [
    "import pymongo\n",
    "db = pymongo.MongoClient(\"localhost\", 27017).pfand"
   ]
  },
  {
   "cell_type": "code",
   "execution_count": 102,
   "metadata": {},
   "outputs": [],
   "source": [
    "import Server.security as sec"
   ]
  },
  {
   "cell_type": "code",
   "execution_count": 106,
   "metadata": {},
   "outputs": [],
   "source": [
    "from cryptography.fernet import InvalidToken\n",
    "from pymongo.collection import Collection"
   ]
  },
  {
   "cell_type": "code",
   "execution_count": 113,
   "metadata": {},
   "outputs": [
    {
     "data": {
      "text/plain": [
       "True"
      ]
     },
     "execution_count": 113,
     "metadata": {},
     "output_type": "execute_result"
    }
   ],
   "source": [
    "def machine_checker(uid: str, access_token: bytes, machines: Collection):\n",
    "    machine = machines.find_one({\"machine_id\": uid})\n",
    "    if not machine: return False\n",
    "    fernet = Fernet(ascii_base64_encode(machine['service_token']))\n",
    "    try: access_token_enc = fernet.decrypt(access_token).decode(\"ascii\")\n",
    "    except InvalidToken: return False\n",
    "    if not access_token_enc == machine['access_token']: return False\n",
    "    return True\n",
    "\n",
    "machine_checker(uid, encrypt(service_token, token), db.tokens.machines)"
   ]
  },
  {
   "cell_type": "code",
   "execution_count": null,
   "metadata": {},
   "outputs": [],
   "source": []
  }
 ],
 "metadata": {
  "kernelspec": {
   "display_name": ".venv",
   "language": "python",
   "name": "python3"
  },
  "language_info": {
   "codemirror_mode": {
    "name": "ipython",
    "version": 3
   },
   "file_extension": ".py",
   "mimetype": "text/x-python",
   "name": "python",
   "nbconvert_exporter": "python",
   "pygments_lexer": "ipython3",
   "version": "3.11.5"
  }
 },
 "nbformat": 4,
 "nbformat_minor": 2
}
